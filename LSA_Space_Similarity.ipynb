{
  "nbformat": 4,
  "nbformat_minor": 0,
  "metadata": {
    "colab": {
      "name": "Copy of LSA Space_Similarity.ipynb",
      "provenance": [],
      "collapsed_sections": [],
      "authorship_tag": "ABX9TyN4j+PTKfbc5n1OuVwM/GKE",
      "include_colab_link": true
    },
    "kernelspec": {
      "name": "python3",
      "display_name": "Python 3"
    },
    "language_info": {
      "name": "python"
    }
  },
  "cells": [
    {
      "cell_type": "markdown",
      "metadata": {
        "id": "view-in-github",
        "colab_type": "text"
      },
      "source": [
        "<a href=\"https://colab.research.google.com/github/ijazulhaq1/ijazulhaq1/blob/main/LSA_Space_Similarity.ipynb\" target=\"_parent\"><img src=\"https://colab.research.google.com/assets/colab-badge.svg\" alt=\"Open In Colab\"/></a>"
      ]
    },
    {
      "cell_type": "code",
      "metadata": {
        "id": "K4A9HMAsLMcO",
        "colab": {
          "base_uri": "https://localhost:8080/"
        },
        "outputId": "87ed84c0-74f9-40b2-b6cb-be71675e9758"
      },
      "source": [
        "import nltk\n",
        "from nltk.corpus import stopwords\n",
        "from nltk.tokenize import word_tokenize \n",
        "nltk.download('punkt')\n",
        "from nltk import tokenize\n",
        "\n",
        "from gensim import corpora, models, similarities\n",
        "from sklearn.feature_extraction.text import TfidfVectorizer \n",
        "from sklearn.decomposition import TruncatedSVD \n",
        "import matplotlib.pyplot as plt \n",
        "\n"
      ],
      "execution_count": null,
      "outputs": [
        {
          "output_type": "stream",
          "name": "stdout",
          "text": [
            "[nltk_data] Downloading package punkt to /root/nltk_data...\n",
            "[nltk_data]   Package punkt is already up-to-date!\n"
          ]
        }
      ]
    },
    {
      "cell_type": "code",
      "metadata": {
        "id": "VibF9n_dLP2a"
      },
      "source": [
        "\n",
        "documents = [\"The practice of agriculture and livestock around the city and increase concetration of niterates due to animal manure\",\n",
        "             \"Livestock and agriculture with intense production and  increase soil pollutions\",\n",
        "             \"There are not enough system for water purification and  this influences the increase of niterats\",\n",
        "             \"Agriculture with fertilizers continimates the subsoil of niterates and this reach to the water\",\n",
        "             \"axcess fertizer cause contimination in the water\",\n",
        "             \"due to increase in nitrogen is the cause of water pollution \",\n",
        "             \"The large increase in the use of fertilizer for example niterates cause the water pollution\" \n",
        "]\n",
        "         \n",
        "            "
      ],
      "execution_count": null,
      "outputs": []
    },
    {
      "cell_type": "code",
      "metadata": {
        "id": "vZ_Ic6U_LP-z"
      },
      "source": [
        "# remove common words and tokenize them\n",
        "stoplist = set('for a of the and to in'.split())"
      ],
      "execution_count": null,
      "outputs": []
    },
    {
      "cell_type": "code",
      "metadata": {
        "colab": {
          "base_uri": "https://localhost:8080/"
        },
        "id": "YopSpWgtLnSp",
        "outputId": "de80535c-5878-4b90-81ce-b8612c48aae1"
      },
      "source": [
        "texts = [[word for word in document.lower().split() if word not in stoplist] for document in documents]\n",
        "print(texts)\n"
      ],
      "execution_count": null,
      "outputs": [
        {
          "output_type": "stream",
          "name": "stdout",
          "text": [
            "[['practice', 'agriculture', 'livestock', 'around', 'city', 'increase', 'concetration', 'niterates', 'due', 'animal', 'manure'], ['livestock', 'agriculture', 'with', 'intense', 'production', 'increase', 'soil', 'pollutions'], ['there', 'are', 'not', 'enough', 'system', 'water', 'purification', 'this', 'influences', 'increase', 'niterats'], ['agriculture', 'with', 'fertilizers', 'continimates', 'subsoil', 'niterates', 'this', 'reach', 'water'], ['axcess', 'fertizer', 'cause', 'contimination', 'water'], ['due', 'increase', 'nitrogen', 'is', 'cause', 'water', 'pollution'], ['large', 'increase', 'use', 'fertilizer', 'example', 'niterates', 'cause', 'water', 'pollution']]\n"
          ]
        }
      ]
    },
    {
      "cell_type": "code",
      "metadata": {
        "colab": {
          "base_uri": "https://localhost:8080/"
        },
        "id": "m30GEsUNafos",
        "outputId": "244ea034-9ce1-46db-f3dd-f10b103169ae"
      },
      "source": [
        "#Number of sentences\n",
        "sentencess=len(documents)   \n",
        "print(sentencess)"
      ],
      "execution_count": null,
      "outputs": [
        {
          "output_type": "stream",
          "name": "stdout",
          "text": [
            "7\n"
          ]
        }
      ]
    },
    {
      "cell_type": "code",
      "metadata": {
        "colab": {
          "base_uri": "https://localhost:8080/"
        },
        "id": "q2nWe0EsMlc3",
        "outputId": "f284ba94-7915-4757-e1d4-fa5ce1a53379"
      },
      "source": [
        "dictionary = corpora.Dictionary(texts)\n",
        "\n",
        "print(dictionary)"
      ],
      "execution_count": null,
      "outputs": [
        {
          "output_type": "stream",
          "name": "stdout",
          "text": [
            "Dictionary(41 unique tokens: ['agriculture', 'animal', 'around', 'city', 'concetration']...)\n"
          ]
        }
      ]
    },
    {
      "cell_type": "code",
      "metadata": {
        "id": "oTrK51jMMa3U",
        "colab": {
          "base_uri": "https://localhost:8080/"
        },
        "outputId": "274ec6dd-6891-4964-f754-12911a9acab3"
      },
      "source": [
        "#Convert document (a list of words) into the bag-of-words format\n",
        "corpus = [dictionary.doc2bow(text) for text in texts]\n",
        "\n",
        "print(corpus)"
      ],
      "execution_count": null,
      "outputs": [
        {
          "output_type": "stream",
          "name": "stdout",
          "text": [
            "[[(0, 1), (1, 1), (2, 1), (3, 1), (4, 1), (5, 1), (6, 1), (7, 1), (8, 1), (9, 1), (10, 1)], [(0, 1), (6, 1), (7, 1), (11, 1), (12, 1), (13, 1), (14, 1), (15, 1)], [(6, 1), (16, 1), (17, 1), (18, 1), (19, 1), (20, 1), (21, 1), (22, 1), (23, 1), (24, 1), (25, 1)], [(0, 1), (9, 1), (15, 1), (24, 1), (25, 1), (26, 1), (27, 1), (28, 1), (29, 1)], [(25, 1), (30, 1), (31, 1), (32, 1), (33, 1)], [(5, 1), (6, 1), (25, 1), (31, 1), (34, 1), (35, 1), (36, 1)], [(6, 1), (9, 1), (25, 1), (31, 1), (36, 1), (37, 1), (38, 1), (39, 1), (40, 1)]]\n"
          ]
        }
      ]
    },
    {
      "cell_type": "code",
      "metadata": {
        "colab": {
          "base_uri": "https://localhost:8080/"
        },
        "id": "YyjwHeLyLnVn",
        "outputId": "a0f187b6-d88e-47d1-fb43-f339e4aa58af"
      },
      "source": [
        "tfidf = models.TfidfModel(corpus) # step 1 -- initialize a model\n",
        "\n",
        "print(tfidf)"
      ],
      "execution_count": null,
      "outputs": [
        {
          "output_type": "stream",
          "name": "stdout",
          "text": [
            "TfidfModel(num_docs=7, num_nnz=60)\n"
          ]
        }
      ]
    },
    {
      "cell_type": "code",
      "metadata": {
        "colab": {
          "base_uri": "https://localhost:8080/"
        },
        "id": "nH3p7J1eLnYr",
        "outputId": "e0e10ff8-7db2-4a87-ea98-667591412f57"
      },
      "source": [
        "\n",
        "corpus_tfidf = tfidf[corpus]  # map corpus object into tfidf space\n",
        "\n",
        "print(corpus_tfidf)"
      ],
      "execution_count": null,
      "outputs": [
        {
          "output_type": "stream",
          "name": "stdout",
          "text": [
            "<gensim.interfaces.TransformedCorpus object at 0x7f2be6830950>\n"
          ]
        }
      ]
    },
    {
      "cell_type": "code",
      "metadata": {
        "colab": {
          "base_uri": "https://localhost:8080/"
        },
        "id": "PdgVPGF-Lnbs",
        "outputId": "2476cfb4-1637-43a0-86ca-fc363cfd07e3"
      },
      "source": [
        "for doc in corpus_tfidf: # show tfidf-space mapped words\n",
        "    print(doc)"
      ],
      "execution_count": null,
      "outputs": [
        {
          "output_type": "stream",
          "name": "stdout",
          "text": [
            "[(0, 0.16184646931109126), (1, 0.3716977251391843), (2, 0.3716977251391843), (3, 0.3716977251391843), (4, 0.3716977251391843), (5, 0.23929632401290468), (6, 0.06427119206162438), (7, 0.23929632401290468), (8, 0.3716977251391843), (9, 0.16184646931109126), (10, 0.3716977251391843)]\n",
            "[(0, 0.19379165448375088), (6, 0.07695701177962956), (7, 0.2865285275590659), (11, 0.4450632592059436), (12, 0.4450632592059436), (13, 0.4450632592059436), (14, 0.4450632592059436), (15, 0.2865285275590659)]\n",
            "[(6, 0.05939848781724643), (16, 0.34351755569134296), (17, 0.34351755569134296), (18, 0.34351755569134296), (19, 0.34351755569134296), (20, 0.34351755569134296), (21, 0.34351755569134296), (22, 0.34351755569134296), (23, 0.34351755569134296), (24, 0.2211541334563063), (25, 0.05939848781724643)]\n",
            "[(0, 0.19025210197503487), (9, 0.19025210197503487), (15, 0.2812951609765775), (24, 0.2812951609765775), (25, 0.07555141263330142), (26, 0.4369342983388913), (27, 0.4369342983388913), (28, 0.4369342983388913), (29, 0.4369342983388913)]\n",
            "[(25, 0.09636796009159791), (30, 0.5573220348551496), (31, 0.24267192804799328), (32, 0.5573220348551496), (33, 0.5573220348551496)]\n",
            "[(5, 0.3669344462375362), (6, 0.0985527645083536), (25, 0.0985527645083536), (31, 0.24817366015602924), (34, 0.569957351013647), (35, 0.569957351013647), (36, 0.3669344462375362)]\n",
            "[(6, 0.078487569825636), (9, 0.19764587607006143), (25, 0.078487569825636), (31, 0.19764587607006143), (36, 0.2922271446587229), (37, 0.45391489126138435), (38, 0.45391489126138435), (39, 0.45391489126138435), (40, 0.45391489126138435)]\n"
          ]
        }
      ]
    },
    {
      "cell_type": "code",
      "metadata": {
        "colab": {
          "base_uri": "https://localhost:8080/"
        },
        "id": "ujsKLmktLned",
        "outputId": "29532bf0-2586-4b1d-c8df-1d2e92ddc292"
      },
      "source": [
        "lsi = models.LsiModel(corpus_tfidf, id2word=dictionary, num_topics=2) # initialize LSI \n",
        "print(lsi)"
      ],
      "execution_count": null,
      "outputs": [
        {
          "output_type": "stream",
          "name": "stdout",
          "text": [
            "LsiModel(num_terms=41, num_topics=2, decay=1.0, chunksize=20000)\n"
          ]
        }
      ]
    },
    {
      "cell_type": "code",
      "metadata": {
        "colab": {
          "base_uri": "https://localhost:8080/"
        },
        "id": "wvgg917TLnhY",
        "outputId": "464215a2-f5b0-4b24-a3d4-f739d82cb769"
      },
      "source": [
        "corpus_lsi = lsi[corpus_tfidf] # create a double wrapper over the original corpus\n",
        "print(corpus_lsi)"
      ],
      "execution_count": null,
      "outputs": [
        {
          "output_type": "stream",
          "name": "stdout",
          "text": [
            "<gensim.interfaces.TransformedCorpus object at 0x7f2be6d30f10>\n"
          ]
        }
      ]
    },
    {
      "cell_type": "code",
      "metadata": {
        "id": "J6hDeycJLnkJ"
      },
      "source": [
        "#topic = lsi.print_topics(2)\n"
      ],
      "execution_count": null,
      "outputs": []
    },
    {
      "cell_type": "code",
      "metadata": {
        "id": "oSb3l4HNLnp2"
      },
      "source": [
        "print(topic)\n"
      ],
      "execution_count": null,
      "outputs": []
    },
    {
      "cell_type": "code",
      "metadata": {
        "colab": {
          "base_uri": "https://localhost:8080/"
        },
        "id": "ZVgqhXHfLns_",
        "outputId": "519fa8dc-8c1d-4f3e-f99f-918f712aac05"
      },
      "source": [
        "for doc in corpus_lsi:\n",
        "    print(doc)"
      ],
      "execution_count": null,
      "outputs": [
        {
          "output_type": "stream",
          "name": "stdout",
          "text": [
            "[(0, 0.49451989341248637), (1, -0.24631259850238468)]\n",
            "[(0, 0.37982296832801565), (1, -0.5656973139095703)]\n",
            "[(0, 0.15519174642847675), (1, -0.18452082776415105)]\n",
            "[(0, 0.4058795942378511), (1, -0.4996733246911198)]\n",
            "[(0, 0.26310707657760113), (1, 0.3442243339164577)]\n",
            "[(0, 0.5842264550331988), (1, 0.43485863692011606)]\n",
            "[(0, 0.5441279430564036), (1, 0.410732169652461)]\n"
          ]
        }
      ]
    },
    {
      "cell_type": "code",
      "metadata": {
        "colab": {
          "base_uri": "https://localhost:8080/"
        },
        "id": "fp2KQRlMQKq3",
        "outputId": "87930ca8-0154-4ea0-c2ce-3531e806e087"
      },
      "source": [
        "# to calculate similarity degree of new sentence with already obtained topics\n",
        "doc = \"The large increase in the use of fertilizer for example niterates cause the water pollution\"  \n",
        "\n",
        "vec_bow = dictionary.doc2bow(doc.lower().split())  # put newly obtained document to existing dictionary object\n",
        "print(vec_bow)  # show result of above"
      ],
      "execution_count": null,
      "outputs": [
        {
          "output_type": "stream",
          "name": "stdout",
          "text": [
            "[(6, 1), (9, 1), (25, 1), (31, 1), (36, 1), (37, 1), (38, 1), (39, 1), (40, 1)]\n"
          ]
        }
      ]
    },
    {
      "cell_type": "code",
      "metadata": {
        "colab": {
          "base_uri": "https://localhost:8080/"
        },
        "id": "2MjVWJkfQKuG",
        "outputId": "07b183f0-807e-400b-b4cb-f898a5b49cac"
      },
      "source": [
        "# convert new sentence to LSI space\n",
        "vec_lsi = lsi[vec_bow] \n",
        "print(vec_lsi)"
      ],
      "execution_count": null,
      "outputs": [
        {
          "output_type": "stream",
          "name": "stdout",
          "text": [
            "[(0, 1.7742170594045135), (1, 1.1471476628153336)]\n"
          ]
        }
      ]
    },
    {
      "cell_type": "code",
      "metadata": {
        "colab": {
          "base_uri": "https://localhost:8080/"
        },
        "id": "aQlaXABPQKxH",
        "outputId": "2c6106fc-708f-41f2-c84b-cc3655af9216"
      },
      "source": [
        "# transform corpus to LSI space and indexize it\n",
        "index = similarities.MatrixSimilarity(lsi[corpus]) \n",
        "print(index)"
      ],
      "execution_count": null,
      "outputs": [
        {
          "output_type": "stream",
          "name": "stdout",
          "text": [
            "MatrixSimilarity<7 docs, 2 features>\n"
          ]
        }
      ]
    },
    {
      "cell_type": "code",
      "metadata": {
        "colab": {
          "base_uri": "https://localhost:8080/"
        },
        "id": "EfdcFbTMQK0B",
        "outputId": "3b5c0f33-91f1-4727-9337-41f90a98c819"
      },
      "source": [
        "# calculate degree of similarity of the sentence to existing corpus\n",
        "sims = index[vec_lsi] \n",
        "print(sims)"
      ],
      "execution_count": null,
      "outputs": [
        {
          "output_type": "stream",
          "name": "stdout",
          "text": [
            "[0.5320633  0.07987402 0.33333564 0.19468546 0.96563566 0.9998109\n",
            " 1.        ]\n"
          ]
        }
      ]
    },
    {
      "cell_type": "code",
      "metadata": {
        "colab": {
          "base_uri": "https://localhost:8080/"
        },
        "id": "E2KmCvYNQK2r",
        "outputId": "76c0cd64-9756-4409-9ed6-1d3152a77547"
      },
      "source": [
        "# output (document_number , document similarity)\n",
        "print(list(enumerate(sims))) \n"
      ],
      "execution_count": null,
      "outputs": [
        {
          "output_type": "stream",
          "name": "stdout",
          "text": [
            "[(0, 0.5320633), (1, 0.07987402), (2, 0.33333564), (3, 0.19468546), (4, 0.96563566), (5, 0.9998109), (6, 1.0)]\n"
          ]
        }
      ]
    },
    {
      "cell_type": "code",
      "metadata": {
        "colab": {
          "base_uri": "https://localhost:8080/"
        },
        "id": "-UlbVqrLQlbv",
        "outputId": "4813d456-cbcd-4b15-b0b5-d46d618535e7"
      },
      "source": [
        "# sort output object as per similarity ( largest similarity document comes first )\n",
        "sims = sorted(enumerate(sims), key=lambda item: -item[1])  # sort output object as per similarity ( largest similarity document comes first )\n",
        "print(sims)"
      ],
      "execution_count": null,
      "outputs": [
        {
          "output_type": "stream",
          "name": "stdout",
          "text": [
            "[(6, 1.0), (5, 0.9998109), (4, 0.96563566), (0, 0.5320633), (2, 0.33333564), (3, 0.19468546), (1, 0.07987402)]\n"
          ]
        }
      ]
    }
  ]
}