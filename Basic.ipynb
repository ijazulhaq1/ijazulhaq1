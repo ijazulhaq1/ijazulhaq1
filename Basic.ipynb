{
  "nbformat": 4,
  "nbformat_minor": 0,
  "metadata": {
    "colab": {
      "name": "Copy of Basic.ipynb",
      "provenance": [],
      "collapsed_sections": [],
      "authorship_tag": "ABX9TyNWa8EYMbxgNxKRzYbiSi5T",
      "include_colab_link": true
    },
    "kernelspec": {
      "name": "python3",
      "display_name": "Python 3"
    },
    "language_info": {
      "name": "python"
    }
  },
  "cells": [
    {
      "cell_type": "markdown",
      "metadata": {
        "id": "view-in-github",
        "colab_type": "text"
      },
      "source": [
        "<a href=\"https://colab.research.google.com/github/ijazulhaq1/ijazulhaq1/blob/main/Basic.ipynb\" target=\"_parent\"><img src=\"https://colab.research.google.com/assets/colab-badge.svg\" alt=\"Open In Colab\"/></a>"
      ]
    },
    {
      "cell_type": "code",
      "metadata": {
        "colab": {
          "base_uri": "https://localhost:8080/"
        },
        "id": "5DG5tv0dUDXh",
        "outputId": "97a9a78c-ae0c-4a92-ca91-b800070a1f62"
      },
      "source": [
        "#lIBRARYS\n",
        "import nltk\n",
        "import numpy as np\n",
        "import pandas as pd\n",
        "from gensim import corpora, models, similarities\n",
        "\n",
        "import string\n",
        "import math\n",
        "from nltk.stem.wordnet import WordNetLemmatizer\n",
        "import numpy as np\n",
        "import pandas as pd\n",
        "from nltk.corpus import stopwords\n",
        "from nltk import tokenize\n",
        "from nltk.tokenize import word_tokenize \n",
        "from nltk.stem import WordNetLemmatizer\n",
        "nltk.download('stopwords')\n",
        "nltk.download('wordnet')\n",
        "nltk.download('punkt')\n",
        "nltk.download('stopwords')\n",
        "nltk.download('wordnet')\n",
        "\n",
        "# print entities\n",
        "# import spacy\n",
        "import spacy\n",
        "# load spacy model\n",
        "nlp = spacy.load('en_core_web_sm')\n",
        "\n"
      ],
      "execution_count": null,
      "outputs": [
        {
          "output_type": "stream",
          "name": "stdout",
          "text": [
            "[nltk_data] Downloading package stopwords to /root/nltk_data...\n",
            "[nltk_data]   Unzipping corpora/stopwords.zip.\n",
            "[nltk_data] Downloading package wordnet to /root/nltk_data...\n",
            "[nltk_data]   Unzipping corpora/wordnet.zip.\n",
            "[nltk_data] Downloading package punkt to /root/nltk_data...\n",
            "[nltk_data]   Unzipping tokenizers/punkt.zip.\n",
            "[nltk_data] Downloading package stopwords to /root/nltk_data...\n",
            "[nltk_data]   Package stopwords is already up-to-date!\n",
            "[nltk_data] Downloading package wordnet to /root/nltk_data...\n",
            "[nltk_data]   Package wordnet is already up-to-date!\n"
          ]
        }
      ]
    },
    {
      "cell_type": "code",
      "metadata": {
        "id": "ht7-xEarUFv4"
      },
      "source": [
        "#from google.colab import files\n",
        "#data_to_load = files.upload()"
      ],
      "execution_count": null,
      "outputs": []
    },
    {
      "cell_type": "code",
      "metadata": {
        "id": "1nNHJs_mUFy-"
      },
      "source": [
        "#df = pd.read_csv(io.BytesIO(data_to_load['datasetOne.csv']))\n",
        "#print(df)"
      ],
      "execution_count": null,
      "outputs": []
    },
    {
      "cell_type": "code",
      "metadata": {
        "id": "K_x6PqEQUF2Q"
      },
      "source": [
        "# Dummy example data\n",
        "text =[ \"The practice of agriculture and livestock around the city and increase concetration of niterates due to animal manure\",\n",
        "             \"Livestock and agriculture with intense production and  increase soil pollutions\",\n",
        "             \"There are not enough system for water purification and  this influences the increase of niterats\",\n",
        "             \"Agriculture with fertilizers continimates the subsoil of niterates and this reach to the water\",\n",
        "             \"axcess fertizer cause contimination in the water\",\n",
        "             \"due to increase in nitrogen is the cause of water pollution \"\n",
        "             \n",
        "\n",
        "]"
      ],
      "execution_count": null,
      "outputs": []
    },
    {
      "cell_type": "markdown",
      "metadata": {
        "id": "OiAQP-vzVNx8"
      },
      "source": [
        "##Number of sentences"
      ]
    },
    {
      "cell_type": "code",
      "metadata": {
        "colab": {
          "base_uri": "https://localhost:8080/"
        },
        "id": "LxHq5SdHUF5a",
        "outputId": "2b884265-c4e5-403d-bd7e-ab1b42fede16"
      },
      "source": [
        "len(text)"
      ],
      "execution_count": null,
      "outputs": [
        {
          "output_type": "execute_result",
          "data": {
            "text/plain": [
              "6"
            ]
          },
          "metadata": {},
          "execution_count": 4
        }
      ]
    },
    {
      "cell_type": "markdown",
      "metadata": {
        "id": "F2XlAh96VSSu"
      },
      "source": [
        "##*Common* sentences"
      ]
    },
    {
      "cell_type": "code",
      "metadata": {
        "colab": {
          "base_uri": "https://localhost:8080/"
        },
        "id": "v2vbiFNDUQ7K",
        "outputId": "093c04ea-4a42-44ab-a338-a21e93a14f22"
      },
      "source": [
        "from collections import Counter\n",
        "Counter(text).most_common(5)"
      ],
      "execution_count": null,
      "outputs": [
        {
          "output_type": "execute_result",
          "data": {
            "text/plain": [
              "[('The practice of agriculture and livestock around the city and increase concetration of niterates due to animal manure',\n",
              "  1),\n",
              " ('Livestock and agriculture with intense production and  increase soil pollutions',\n",
              "  1),\n",
              " ('There are not enough system for water purification and  this influences the increase of niterats',\n",
              "  1),\n",
              " ('Agriculture with fertilizers continimates the subsoil of niterates and this reach to the water',\n",
              "  1),\n",
              " ('axcess fertizer cause contimination in the water', 1)]"
            ]
          },
          "metadata": {},
          "execution_count": 5
        }
      ]
    },
    {
      "cell_type": "code",
      "metadata": {
        "colab": {
          "base_uri": "https://localhost:8080/"
        },
        "id": "woTrU41PUQ-P",
        "outputId": "3fc98cc3-241a-4709-eac6-4b25ebbb1a49"
      },
      "source": [
        "df = pd.DataFrame(text, columns=['text'])\n",
        "print(df)"
      ],
      "execution_count": null,
      "outputs": [
        {
          "output_type": "stream",
          "name": "stdout",
          "text": [
            "                                                text\n",
            "0  The practice of agriculture and livestock arou...\n",
            "1  Livestock and agriculture with intense product...\n",
            "2  There are not enough system for water purifica...\n",
            "3  Agriculture with fertilizers continimates the ...\n",
            "4   axcess fertizer cause contimination in the water\n",
            "5  due to increase in nitrogen is the cause of wa...\n"
          ]
        }
      ]
    },
    {
      "cell_type": "markdown",
      "metadata": {
        "id": "BnaAZr5CVXoX"
      },
      "source": [
        "##Data Cleaning and lemmatization"
      ]
    },
    {
      "cell_type": "code",
      "metadata": {
        "id": "-Uef7wptURBQ"
      },
      "source": [
        "stop = set(stopwords.words('english'))\n",
        "exclude = set(string.punctuation)\n",
        "lemma = WordNetLemmatizer()\n",
        "\n",
        "def clean(text):\n",
        "   # text to lower case\n",
        "    stop_free = ' '.join([word for word in text.lower().split() if word not in stop])\n",
        "   # Remove  punctuation symbols\n",
        "    punc_free = ''.join(ch for ch in stop_free if ch not in exclude)\n",
        "   # Lemmatization\n",
        "    normalized = ' '.join([lemma.lemmatize(word) for word in punc_free.split()])\n",
        "    return normalized.split()\n",
        "clean_text=df['text'].apply(clean)"
      ],
      "execution_count": null,
      "outputs": []
    },
    {
      "cell_type": "markdown",
      "metadata": {
        "id": "SaNcoY8kVdFF"
      },
      "source": [
        "#create dictionary"
      ]
    },
    {
      "cell_type": "code",
      "metadata": {
        "colab": {
          "base_uri": "https://localhost:8080/"
        },
        "id": "9GB9Lz66UREL",
        "outputId": "2f2c9b0d-c00e-437a-db1b-e97aec5ab05c"
      },
      "source": [
        "dictionary = corpora.Dictionary(clean_text)\n",
        "#Total number of non-zeroes in the BOW matrix (sum of the number of unique words per document over the entire corpus).\n",
        "print(dictionary.num_nnz)\n",
        "#number of unique words\n",
        "print(dictionary)"
      ],
      "execution_count": null,
      "outputs": [
        {
          "output_type": "stream",
          "name": "stdout",
          "text": [
            "43\n",
            "Dictionary(30 unique tokens: ['agriculture', 'animal', 'around', 'city', 'concetration']...)\n"
          ]
        }
      ]
    },
    {
      "cell_type": "code",
      "metadata": {
        "colab": {
          "base_uri": "https://localhost:8080/"
        },
        "id": "skX2bSAWURJ2",
        "outputId": "792c807e-0f3f-4f06-89c7-cbbf9864dd8d"
      },
      "source": [
        "#Convert document (a list of words) into the bag-of-words format\n",
        "corpus = [dictionary.doc2bow(text) for text in clean_text]\n",
        "\n",
        "print(corpus)"
      ],
      "execution_count": null,
      "outputs": [
        {
          "output_type": "stream",
          "name": "stdout",
          "text": [
            "[[(0, 1), (1, 1), (2, 1), (3, 1), (4, 1), (5, 1), (6, 1), (7, 1), (8, 1), (9, 1), (10, 1)], [(0, 1), (6, 1), (7, 1), (11, 1), (12, 1), (13, 1), (14, 1)], [(6, 1), (15, 1), (16, 1), (17, 1), (18, 1), (19, 1), (20, 1)], [(0, 1), (9, 1), (20, 1), (21, 1), (22, 1), (23, 1), (24, 1)], [(20, 1), (25, 1), (26, 1), (27, 1), (28, 1)], [(5, 1), (6, 1), (12, 1), (20, 1), (26, 1), (29, 1)]]\n"
          ]
        }
      ]
    },
    {
      "cell_type": "markdown",
      "metadata": {
        "id": "cJQTyOCRVjg-"
      },
      "source": [
        "#**Document** term Matrix"
      ]
    },
    {
      "cell_type": "code",
      "metadata": {
        "colab": {
          "base_uri": "https://localhost:8080/"
        },
        "id": "qynnpEh5URMg",
        "outputId": "3082ac09-8840-427f-c1cb-ae18bfa0f9bf"
      },
      "source": [
        "doc_term_matrix = [dictionary.doc2bow(doc) for doc in clean_text ]\n",
        "print(len(doc_term_matrix))\n",
        "print(df)"
      ],
      "execution_count": null,
      "outputs": [
        {
          "output_type": "stream",
          "name": "stdout",
          "text": [
            "6\n",
            "                                                text\n",
            "0  The practice of agriculture and livestock arou...\n",
            "1  Livestock and agriculture with intense product...\n",
            "2  There are not enough system for water purifica...\n",
            "3  Agriculture with fertilizers continimates the ...\n",
            "4   axcess fertizer cause contimination in the water\n",
            "5  due to increase in nitrogen is the cause of wa...\n"
          ]
        }
      ]
    },
    {
      "cell_type": "markdown",
      "metadata": {
        "id": "PVa1vU-uVus4"
      },
      "source": [
        "###CountVectorizer *Vectorization*"
      ]
    },
    {
      "cell_type": "code",
      "metadata": {
        "colab": {
          "base_uri": "https://localhost:8080/"
        },
        "id": "6h2BZ2rJURPL",
        "outputId": "3f2ad101-53bd-480f-c133-47e8adae3393"
      },
      "source": [
        "from sklearn.feature_extraction.text import CountVectorizer\n",
        "# create the transform\n",
        "vectorizer = CountVectorizer()\n",
        "# tokenize and build vocab\n",
        "vectorizer.fit(text)\n",
        "# summarize\n",
        "print(vectorizer.vocabulary_)\n",
        "# encode document\n",
        "matrix = vectorizer.transform(text)\n",
        "# summarize encoded vector\n",
        "print(matrix.shape)\n",
        "print(type(matrix))\n",
        "print(matrix.toarray())\n"
      ],
      "execution_count": null,
      "outputs": [
        {
          "output_type": "stream",
          "name": "stdout",
          "text": [
            "{'the': 37, 'practice': 30, 'of': 27, 'agriculture': 0, 'and': 1, 'livestock': 21, 'around': 4, 'city': 7, 'increase': 17, 'concetration': 8, 'niterates': 23, 'due': 11, 'to': 40, 'animal': 2, 'manure': 22, 'with': 42, 'intense': 19, 'production': 31, 'soil': 34, 'pollutions': 29, 'there': 38, 'are': 3, 'not': 26, 'enough': 12, 'system': 36, 'for': 15, 'water': 41, 'purification': 32, 'this': 39, 'influences': 18, 'niterats': 24, 'fertilizers': 13, 'continimates': 10, 'subsoil': 35, 'reach': 33, 'axcess': 5, 'fertizer': 14, 'cause': 6, 'contimination': 9, 'in': 16, 'nitrogen': 25, 'is': 20, 'pollution': 28}\n",
            "(6, 43)\n",
            "<class 'scipy.sparse.csr.csr_matrix'>\n",
            "[[1 2 1 0 1 0 0 1 1 0 0 1 0 0 0 0 0 1 0 0 0 1 1 1 0 0 0 2 0 0 1 0 0 0 0 0\n",
            "  0 2 0 0 1 0 0]\n",
            " [1 2 0 0 0 0 0 0 0 0 0 0 0 0 0 0 0 1 0 1 0 1 0 0 0 0 0 0 0 1 0 1 0 0 1 0\n",
            "  0 0 0 0 0 0 1]\n",
            " [0 1 0 1 0 0 0 0 0 0 0 0 1 0 0 1 0 1 1 0 0 0 0 0 1 0 1 1 0 0 0 0 1 0 0 0\n",
            "  1 1 1 1 0 1 0]\n",
            " [1 1 0 0 0 0 0 0 0 0 1 0 0 1 0 0 0 0 0 0 0 0 0 1 0 0 0 1 0 0 0 0 0 1 0 1\n",
            "  0 2 0 1 1 1 1]\n",
            " [0 0 0 0 0 1 1 0 0 1 0 0 0 0 1 0 1 0 0 0 0 0 0 0 0 0 0 0 0 0 0 0 0 0 0 0\n",
            "  0 1 0 0 0 1 0]\n",
            " [0 0 0 0 0 0 1 0 0 0 0 1 0 0 0 0 1 1 0 0 1 0 0 0 0 1 0 1 1 0 0 0 0 0 0 0\n",
            "  0 1 0 0 1 1 0]]\n"
          ]
        }
      ]
    },
    {
      "cell_type": "code",
      "metadata": {
        "colab": {
          "base_uri": "https://localhost:8080/",
          "height": 292
        },
        "id": "1kTx4jiba8-v",
        "outputId": "6c477e0a-149e-4807-c843-1889e021b7bd"
      },
      "source": [
        "counts = pd.DataFrame(matrix.toarray(),\n",
        "                      columns=vectorizer.get_feature_names())\n",
        "counts"
      ],
      "execution_count": null,
      "outputs": [
        {
          "output_type": "stream",
          "name": "stderr",
          "text": [
            "/usr/local/lib/python3.7/dist-packages/sklearn/utils/deprecation.py:87: FutureWarning: Function get_feature_names is deprecated; get_feature_names is deprecated in 1.0 and will be removed in 1.2. Please use get_feature_names_out instead.\n",
            "  warnings.warn(msg, category=FutureWarning)\n"
          ]
        },
        {
          "output_type": "execute_result",
          "data": {
            "text/html": [
              "<div>\n",
              "<style scoped>\n",
              "    .dataframe tbody tr th:only-of-type {\n",
              "        vertical-align: middle;\n",
              "    }\n",
              "\n",
              "    .dataframe tbody tr th {\n",
              "        vertical-align: top;\n",
              "    }\n",
              "\n",
              "    .dataframe thead th {\n",
              "        text-align: right;\n",
              "    }\n",
              "</style>\n",
              "<table border=\"1\" class=\"dataframe\">\n",
              "  <thead>\n",
              "    <tr style=\"text-align: right;\">\n",
              "      <th></th>\n",
              "      <th>agriculture</th>\n",
              "      <th>and</th>\n",
              "      <th>animal</th>\n",
              "      <th>are</th>\n",
              "      <th>around</th>\n",
              "      <th>axcess</th>\n",
              "      <th>cause</th>\n",
              "      <th>city</th>\n",
              "      <th>concetration</th>\n",
              "      <th>contimination</th>\n",
              "      <th>continimates</th>\n",
              "      <th>due</th>\n",
              "      <th>enough</th>\n",
              "      <th>fertilizers</th>\n",
              "      <th>fertizer</th>\n",
              "      <th>for</th>\n",
              "      <th>in</th>\n",
              "      <th>increase</th>\n",
              "      <th>influences</th>\n",
              "      <th>intense</th>\n",
              "      <th>is</th>\n",
              "      <th>livestock</th>\n",
              "      <th>manure</th>\n",
              "      <th>niterates</th>\n",
              "      <th>niterats</th>\n",
              "      <th>nitrogen</th>\n",
              "      <th>not</th>\n",
              "      <th>of</th>\n",
              "      <th>pollution</th>\n",
              "      <th>pollutions</th>\n",
              "      <th>practice</th>\n",
              "      <th>production</th>\n",
              "      <th>purification</th>\n",
              "      <th>reach</th>\n",
              "      <th>soil</th>\n",
              "      <th>subsoil</th>\n",
              "      <th>system</th>\n",
              "      <th>the</th>\n",
              "      <th>there</th>\n",
              "      <th>this</th>\n",
              "      <th>to</th>\n",
              "      <th>water</th>\n",
              "      <th>with</th>\n",
              "    </tr>\n",
              "  </thead>\n",
              "  <tbody>\n",
              "    <tr>\n",
              "      <th>0</th>\n",
              "      <td>1</td>\n",
              "      <td>2</td>\n",
              "      <td>1</td>\n",
              "      <td>0</td>\n",
              "      <td>1</td>\n",
              "      <td>0</td>\n",
              "      <td>0</td>\n",
              "      <td>1</td>\n",
              "      <td>1</td>\n",
              "      <td>0</td>\n",
              "      <td>0</td>\n",
              "      <td>1</td>\n",
              "      <td>0</td>\n",
              "      <td>0</td>\n",
              "      <td>0</td>\n",
              "      <td>0</td>\n",
              "      <td>0</td>\n",
              "      <td>1</td>\n",
              "      <td>0</td>\n",
              "      <td>0</td>\n",
              "      <td>0</td>\n",
              "      <td>1</td>\n",
              "      <td>1</td>\n",
              "      <td>1</td>\n",
              "      <td>0</td>\n",
              "      <td>0</td>\n",
              "      <td>0</td>\n",
              "      <td>2</td>\n",
              "      <td>0</td>\n",
              "      <td>0</td>\n",
              "      <td>1</td>\n",
              "      <td>0</td>\n",
              "      <td>0</td>\n",
              "      <td>0</td>\n",
              "      <td>0</td>\n",
              "      <td>0</td>\n",
              "      <td>0</td>\n",
              "      <td>2</td>\n",
              "      <td>0</td>\n",
              "      <td>0</td>\n",
              "      <td>1</td>\n",
              "      <td>0</td>\n",
              "      <td>0</td>\n",
              "    </tr>\n",
              "    <tr>\n",
              "      <th>1</th>\n",
              "      <td>1</td>\n",
              "      <td>2</td>\n",
              "      <td>0</td>\n",
              "      <td>0</td>\n",
              "      <td>0</td>\n",
              "      <td>0</td>\n",
              "      <td>0</td>\n",
              "      <td>0</td>\n",
              "      <td>0</td>\n",
              "      <td>0</td>\n",
              "      <td>0</td>\n",
              "      <td>0</td>\n",
              "      <td>0</td>\n",
              "      <td>0</td>\n",
              "      <td>0</td>\n",
              "      <td>0</td>\n",
              "      <td>0</td>\n",
              "      <td>1</td>\n",
              "      <td>0</td>\n",
              "      <td>1</td>\n",
              "      <td>0</td>\n",
              "      <td>1</td>\n",
              "      <td>0</td>\n",
              "      <td>0</td>\n",
              "      <td>0</td>\n",
              "      <td>0</td>\n",
              "      <td>0</td>\n",
              "      <td>0</td>\n",
              "      <td>0</td>\n",
              "      <td>1</td>\n",
              "      <td>0</td>\n",
              "      <td>1</td>\n",
              "      <td>0</td>\n",
              "      <td>0</td>\n",
              "      <td>1</td>\n",
              "      <td>0</td>\n",
              "      <td>0</td>\n",
              "      <td>0</td>\n",
              "      <td>0</td>\n",
              "      <td>0</td>\n",
              "      <td>0</td>\n",
              "      <td>0</td>\n",
              "      <td>1</td>\n",
              "    </tr>\n",
              "    <tr>\n",
              "      <th>2</th>\n",
              "      <td>0</td>\n",
              "      <td>1</td>\n",
              "      <td>0</td>\n",
              "      <td>1</td>\n",
              "      <td>0</td>\n",
              "      <td>0</td>\n",
              "      <td>0</td>\n",
              "      <td>0</td>\n",
              "      <td>0</td>\n",
              "      <td>0</td>\n",
              "      <td>0</td>\n",
              "      <td>0</td>\n",
              "      <td>1</td>\n",
              "      <td>0</td>\n",
              "      <td>0</td>\n",
              "      <td>1</td>\n",
              "      <td>0</td>\n",
              "      <td>1</td>\n",
              "      <td>1</td>\n",
              "      <td>0</td>\n",
              "      <td>0</td>\n",
              "      <td>0</td>\n",
              "      <td>0</td>\n",
              "      <td>0</td>\n",
              "      <td>1</td>\n",
              "      <td>0</td>\n",
              "      <td>1</td>\n",
              "      <td>1</td>\n",
              "      <td>0</td>\n",
              "      <td>0</td>\n",
              "      <td>0</td>\n",
              "      <td>0</td>\n",
              "      <td>1</td>\n",
              "      <td>0</td>\n",
              "      <td>0</td>\n",
              "      <td>0</td>\n",
              "      <td>1</td>\n",
              "      <td>1</td>\n",
              "      <td>1</td>\n",
              "      <td>1</td>\n",
              "      <td>0</td>\n",
              "      <td>1</td>\n",
              "      <td>0</td>\n",
              "    </tr>\n",
              "    <tr>\n",
              "      <th>3</th>\n",
              "      <td>1</td>\n",
              "      <td>1</td>\n",
              "      <td>0</td>\n",
              "      <td>0</td>\n",
              "      <td>0</td>\n",
              "      <td>0</td>\n",
              "      <td>0</td>\n",
              "      <td>0</td>\n",
              "      <td>0</td>\n",
              "      <td>0</td>\n",
              "      <td>1</td>\n",
              "      <td>0</td>\n",
              "      <td>0</td>\n",
              "      <td>1</td>\n",
              "      <td>0</td>\n",
              "      <td>0</td>\n",
              "      <td>0</td>\n",
              "      <td>0</td>\n",
              "      <td>0</td>\n",
              "      <td>0</td>\n",
              "      <td>0</td>\n",
              "      <td>0</td>\n",
              "      <td>0</td>\n",
              "      <td>1</td>\n",
              "      <td>0</td>\n",
              "      <td>0</td>\n",
              "      <td>0</td>\n",
              "      <td>1</td>\n",
              "      <td>0</td>\n",
              "      <td>0</td>\n",
              "      <td>0</td>\n",
              "      <td>0</td>\n",
              "      <td>0</td>\n",
              "      <td>1</td>\n",
              "      <td>0</td>\n",
              "      <td>1</td>\n",
              "      <td>0</td>\n",
              "      <td>2</td>\n",
              "      <td>0</td>\n",
              "      <td>1</td>\n",
              "      <td>1</td>\n",
              "      <td>1</td>\n",
              "      <td>1</td>\n",
              "    </tr>\n",
              "    <tr>\n",
              "      <th>4</th>\n",
              "      <td>0</td>\n",
              "      <td>0</td>\n",
              "      <td>0</td>\n",
              "      <td>0</td>\n",
              "      <td>0</td>\n",
              "      <td>1</td>\n",
              "      <td>1</td>\n",
              "      <td>0</td>\n",
              "      <td>0</td>\n",
              "      <td>1</td>\n",
              "      <td>0</td>\n",
              "      <td>0</td>\n",
              "      <td>0</td>\n",
              "      <td>0</td>\n",
              "      <td>1</td>\n",
              "      <td>0</td>\n",
              "      <td>1</td>\n",
              "      <td>0</td>\n",
              "      <td>0</td>\n",
              "      <td>0</td>\n",
              "      <td>0</td>\n",
              "      <td>0</td>\n",
              "      <td>0</td>\n",
              "      <td>0</td>\n",
              "      <td>0</td>\n",
              "      <td>0</td>\n",
              "      <td>0</td>\n",
              "      <td>0</td>\n",
              "      <td>0</td>\n",
              "      <td>0</td>\n",
              "      <td>0</td>\n",
              "      <td>0</td>\n",
              "      <td>0</td>\n",
              "      <td>0</td>\n",
              "      <td>0</td>\n",
              "      <td>0</td>\n",
              "      <td>0</td>\n",
              "      <td>1</td>\n",
              "      <td>0</td>\n",
              "      <td>0</td>\n",
              "      <td>0</td>\n",
              "      <td>1</td>\n",
              "      <td>0</td>\n",
              "    </tr>\n",
              "    <tr>\n",
              "      <th>5</th>\n",
              "      <td>0</td>\n",
              "      <td>0</td>\n",
              "      <td>0</td>\n",
              "      <td>0</td>\n",
              "      <td>0</td>\n",
              "      <td>0</td>\n",
              "      <td>1</td>\n",
              "      <td>0</td>\n",
              "      <td>0</td>\n",
              "      <td>0</td>\n",
              "      <td>0</td>\n",
              "      <td>1</td>\n",
              "      <td>0</td>\n",
              "      <td>0</td>\n",
              "      <td>0</td>\n",
              "      <td>0</td>\n",
              "      <td>1</td>\n",
              "      <td>1</td>\n",
              "      <td>0</td>\n",
              "      <td>0</td>\n",
              "      <td>1</td>\n",
              "      <td>0</td>\n",
              "      <td>0</td>\n",
              "      <td>0</td>\n",
              "      <td>0</td>\n",
              "      <td>1</td>\n",
              "      <td>0</td>\n",
              "      <td>1</td>\n",
              "      <td>1</td>\n",
              "      <td>0</td>\n",
              "      <td>0</td>\n",
              "      <td>0</td>\n",
              "      <td>0</td>\n",
              "      <td>0</td>\n",
              "      <td>0</td>\n",
              "      <td>0</td>\n",
              "      <td>0</td>\n",
              "      <td>1</td>\n",
              "      <td>0</td>\n",
              "      <td>0</td>\n",
              "      <td>1</td>\n",
              "      <td>1</td>\n",
              "      <td>0</td>\n",
              "    </tr>\n",
              "  </tbody>\n",
              "</table>\n",
              "</div>"
            ],
            "text/plain": [
              "   agriculture  and  animal  are  around  ...  there  this  to  water  with\n",
              "0            1    2       1    0       1  ...      0     0   1      0     0\n",
              "1            1    2       0    0       0  ...      0     0   0      0     1\n",
              "2            0    1       0    1       0  ...      1     1   0      1     0\n",
              "3            1    1       0    0       0  ...      0     1   1      1     1\n",
              "4            0    0       0    0       0  ...      0     0   0      1     0\n",
              "5            0    0       0    0       0  ...      0     0   1      1     0\n",
              "\n",
              "[6 rows x 43 columns]"
            ]
          },
          "metadata": {},
          "execution_count": 53
        }
      ]
    },
    {
      "cell_type": "markdown",
      "metadata": {
        "id": "ADG7Gg_rVyYR"
      },
      "source": [
        "##euclidean_distances"
      ]
    },
    {
      "cell_type": "code",
      "metadata": {
        "colab": {
          "base_uri": "https://localhost:8080/"
        },
        "id": "lwiuOyf_U0Bp",
        "outputId": "b7917c2a-9751-4683-dd24-67359e8a6409"
      },
      "source": [
        "from sklearn.metrics.pairwise import euclidean_distances\n",
        "for f in vector:\n",
        "  print(euclidean_distances(vector[3],f))"
      ],
      "execution_count": null,
      "outputs": [
        {
          "output_type": "stream",
          "name": "stdout",
          "text": [
            "[[4.24264069]]\n",
            "[[4.47213595]]\n",
            "[[4.35889894]]\n",
            "[[0.]]\n",
            "[[4.12310563]]\n",
            "[[4.12310563]]\n"
          ]
        }
      ]
    },
    {
      "cell_type": "markdown",
      "metadata": {
        "id": "d4OJ-PZ8V4FK"
      },
      "source": [
        "#TFIDF Vectorization **"
      ]
    },
    {
      "cell_type": "code",
      "metadata": {
        "colab": {
          "base_uri": "https://localhost:8080/"
        },
        "id": "y6zJxY0zURSL",
        "outputId": "960789ac-8424-4b11-a190-5a3f68d90469"
      },
      "source": [
        "from sklearn.feature_extraction.text import TfidfVectorizer\n",
        "# create the transform\n",
        "vectorizer = TfidfVectorizer()\n",
        "X = vectorizer.fit_transform(df['text'].values)\n",
        "X.shape\n",
        "print(vectorizer.vocabulary_)\n",
        "print(vectorizer.idf_)"
      ],
      "execution_count": null,
      "outputs": [
        {
          "output_type": "stream",
          "name": "stdout",
          "text": [
            "{'the': 37, 'practice': 30, 'of': 27, 'agriculture': 0, 'and': 1, 'livestock': 21, 'around': 4, 'city': 7, 'increase': 17, 'concetration': 8, 'niterates': 23, 'due': 11, 'to': 40, 'animal': 2, 'manure': 22, 'with': 42, 'intense': 19, 'production': 31, 'soil': 34, 'pollutions': 29, 'there': 38, 'are': 3, 'not': 26, 'enough': 12, 'system': 36, 'for': 15, 'water': 41, 'purification': 32, 'this': 39, 'influences': 18, 'niterats': 24, 'fertilizers': 13, 'continimates': 10, 'subsoil': 35, 'reach': 33, 'axcess': 5, 'fertizer': 14, 'cause': 6, 'contimination': 9, 'in': 16, 'nitrogen': 25, 'is': 20, 'pollution': 28}\n",
            "[1.55961579 1.33647224 2.25276297 2.25276297 2.25276297 2.25276297\n",
            " 1.84729786 2.25276297 2.25276297 2.25276297 2.25276297 1.84729786\n",
            " 2.25276297 2.25276297 2.25276297 2.25276297 1.84729786 1.33647224\n",
            " 2.25276297 2.25276297 2.25276297 1.84729786 2.25276297 1.84729786\n",
            " 2.25276297 2.25276297 2.25276297 1.33647224 2.25276297 2.25276297\n",
            " 2.25276297 2.25276297 2.25276297 2.25276297 2.25276297 2.25276297\n",
            " 2.25276297 1.15415068 2.25276297 1.84729786 1.55961579 1.33647224\n",
            " 1.84729786]\n"
          ]
        }
      ]
    },
    {
      "cell_type": "code",
      "metadata": {
        "colab": {
          "base_uri": "https://localhost:8080/",
          "height": 292
        },
        "id": "yQlsZTKmVEnd",
        "outputId": "2ae4429b-d1ae-40dd-bf4e-20601d8ede60"
      },
      "source": [
        "countidf = pd.DataFrame(X.toarray(),\n",
        "                      columns=vectorizer.get_feature_names())\n",
        "countidf"
      ],
      "execution_count": null,
      "outputs": [
        {
          "output_type": "stream",
          "name": "stderr",
          "text": [
            "/usr/local/lib/python3.7/dist-packages/sklearn/utils/deprecation.py:87: FutureWarning: Function get_feature_names is deprecated; get_feature_names is deprecated in 1.0 and will be removed in 1.2. Please use get_feature_names_out instead.\n",
            "  warnings.warn(msg, category=FutureWarning)\n"
          ]
        },
        {
          "output_type": "execute_result",
          "data": {
            "text/html": [
              "<div>\n",
              "<style scoped>\n",
              "    .dataframe tbody tr th:only-of-type {\n",
              "        vertical-align: middle;\n",
              "    }\n",
              "\n",
              "    .dataframe tbody tr th {\n",
              "        vertical-align: top;\n",
              "    }\n",
              "\n",
              "    .dataframe thead th {\n",
              "        text-align: right;\n",
              "    }\n",
              "</style>\n",
              "<table border=\"1\" class=\"dataframe\">\n",
              "  <thead>\n",
              "    <tr style=\"text-align: right;\">\n",
              "      <th></th>\n",
              "      <th>agriculture</th>\n",
              "      <th>and</th>\n",
              "      <th>animal</th>\n",
              "      <th>are</th>\n",
              "      <th>around</th>\n",
              "      <th>axcess</th>\n",
              "      <th>cause</th>\n",
              "      <th>city</th>\n",
              "      <th>concetration</th>\n",
              "      <th>contimination</th>\n",
              "      <th>continimates</th>\n",
              "      <th>due</th>\n",
              "      <th>enough</th>\n",
              "      <th>fertilizers</th>\n",
              "      <th>fertizer</th>\n",
              "      <th>for</th>\n",
              "      <th>in</th>\n",
              "      <th>increase</th>\n",
              "      <th>influences</th>\n",
              "      <th>intense</th>\n",
              "      <th>is</th>\n",
              "      <th>livestock</th>\n",
              "      <th>manure</th>\n",
              "      <th>niterates</th>\n",
              "      <th>niterats</th>\n",
              "      <th>nitrogen</th>\n",
              "      <th>not</th>\n",
              "      <th>of</th>\n",
              "      <th>pollution</th>\n",
              "      <th>pollutions</th>\n",
              "      <th>practice</th>\n",
              "      <th>production</th>\n",
              "      <th>purification</th>\n",
              "      <th>reach</th>\n",
              "      <th>soil</th>\n",
              "      <th>subsoil</th>\n",
              "      <th>system</th>\n",
              "      <th>the</th>\n",
              "      <th>there</th>\n",
              "      <th>this</th>\n",
              "      <th>to</th>\n",
              "      <th>water</th>\n",
              "      <th>with</th>\n",
              "    </tr>\n",
              "  </thead>\n",
              "  <tbody>\n",
              "    <tr>\n",
              "      <th>0</th>\n",
              "      <td>0.190600</td>\n",
              "      <td>0.326660</td>\n",
              "      <td>0.27531</td>\n",
              "      <td>0.000000</td>\n",
              "      <td>0.27531</td>\n",
              "      <td>0.000000</td>\n",
              "      <td>0.000000</td>\n",
              "      <td>0.27531</td>\n",
              "      <td>0.27531</td>\n",
              "      <td>0.000000</td>\n",
              "      <td>0.000000</td>\n",
              "      <td>0.225758</td>\n",
              "      <td>0.000000</td>\n",
              "      <td>0.000000</td>\n",
              "      <td>0.000000</td>\n",
              "      <td>0.000000</td>\n",
              "      <td>0.000000</td>\n",
              "      <td>0.163330</td>\n",
              "      <td>0.000000</td>\n",
              "      <td>0.000000</td>\n",
              "      <td>0.000000</td>\n",
              "      <td>0.225758</td>\n",
              "      <td>0.27531</td>\n",
              "      <td>0.225758</td>\n",
              "      <td>0.000000</td>\n",
              "      <td>0.000000</td>\n",
              "      <td>0.000000</td>\n",
              "      <td>0.326660</td>\n",
              "      <td>0.000000</td>\n",
              "      <td>0.000000</td>\n",
              "      <td>0.27531</td>\n",
              "      <td>0.000000</td>\n",
              "      <td>0.000000</td>\n",
              "      <td>0.000000</td>\n",
              "      <td>0.000000</td>\n",
              "      <td>0.000000</td>\n",
              "      <td>0.000000</td>\n",
              "      <td>0.282097</td>\n",
              "      <td>0.000000</td>\n",
              "      <td>0.000000</td>\n",
              "      <td>0.190600</td>\n",
              "      <td>0.000000</td>\n",
              "      <td>0.000000</td>\n",
              "    </tr>\n",
              "    <tr>\n",
              "      <th>1</th>\n",
              "      <td>0.251394</td>\n",
              "      <td>0.430851</td>\n",
              "      <td>0.00000</td>\n",
              "      <td>0.000000</td>\n",
              "      <td>0.00000</td>\n",
              "      <td>0.000000</td>\n",
              "      <td>0.000000</td>\n",
              "      <td>0.00000</td>\n",
              "      <td>0.00000</td>\n",
              "      <td>0.000000</td>\n",
              "      <td>0.000000</td>\n",
              "      <td>0.000000</td>\n",
              "      <td>0.000000</td>\n",
              "      <td>0.000000</td>\n",
              "      <td>0.000000</td>\n",
              "      <td>0.000000</td>\n",
              "      <td>0.000000</td>\n",
              "      <td>0.215426</td>\n",
              "      <td>0.000000</td>\n",
              "      <td>0.363122</td>\n",
              "      <td>0.000000</td>\n",
              "      <td>0.297766</td>\n",
              "      <td>0.00000</td>\n",
              "      <td>0.000000</td>\n",
              "      <td>0.000000</td>\n",
              "      <td>0.000000</td>\n",
              "      <td>0.000000</td>\n",
              "      <td>0.000000</td>\n",
              "      <td>0.000000</td>\n",
              "      <td>0.363122</td>\n",
              "      <td>0.00000</td>\n",
              "      <td>0.363122</td>\n",
              "      <td>0.000000</td>\n",
              "      <td>0.000000</td>\n",
              "      <td>0.363122</td>\n",
              "      <td>0.000000</td>\n",
              "      <td>0.000000</td>\n",
              "      <td>0.000000</td>\n",
              "      <td>0.000000</td>\n",
              "      <td>0.000000</td>\n",
              "      <td>0.000000</td>\n",
              "      <td>0.000000</td>\n",
              "      <td>0.297766</td>\n",
              "    </tr>\n",
              "    <tr>\n",
              "      <th>2</th>\n",
              "      <td>0.000000</td>\n",
              "      <td>0.176151</td>\n",
              "      <td>0.00000</td>\n",
              "      <td>0.296921</td>\n",
              "      <td>0.00000</td>\n",
              "      <td>0.000000</td>\n",
              "      <td>0.000000</td>\n",
              "      <td>0.00000</td>\n",
              "      <td>0.00000</td>\n",
              "      <td>0.000000</td>\n",
              "      <td>0.000000</td>\n",
              "      <td>0.000000</td>\n",
              "      <td>0.296921</td>\n",
              "      <td>0.000000</td>\n",
              "      <td>0.000000</td>\n",
              "      <td>0.296921</td>\n",
              "      <td>0.000000</td>\n",
              "      <td>0.176151</td>\n",
              "      <td>0.296921</td>\n",
              "      <td>0.000000</td>\n",
              "      <td>0.000000</td>\n",
              "      <td>0.000000</td>\n",
              "      <td>0.00000</td>\n",
              "      <td>0.000000</td>\n",
              "      <td>0.296921</td>\n",
              "      <td>0.000000</td>\n",
              "      <td>0.296921</td>\n",
              "      <td>0.176151</td>\n",
              "      <td>0.000000</td>\n",
              "      <td>0.000000</td>\n",
              "      <td>0.00000</td>\n",
              "      <td>0.000000</td>\n",
              "      <td>0.296921</td>\n",
              "      <td>0.000000</td>\n",
              "      <td>0.000000</td>\n",
              "      <td>0.000000</td>\n",
              "      <td>0.296921</td>\n",
              "      <td>0.152121</td>\n",
              "      <td>0.296921</td>\n",
              "      <td>0.243480</td>\n",
              "      <td>0.000000</td>\n",
              "      <td>0.176151</td>\n",
              "      <td>0.000000</td>\n",
              "    </tr>\n",
              "    <tr>\n",
              "      <th>3</th>\n",
              "      <td>0.229731</td>\n",
              "      <td>0.196862</td>\n",
              "      <td>0.00000</td>\n",
              "      <td>0.000000</td>\n",
              "      <td>0.00000</td>\n",
              "      <td>0.000000</td>\n",
              "      <td>0.000000</td>\n",
              "      <td>0.00000</td>\n",
              "      <td>0.00000</td>\n",
              "      <td>0.000000</td>\n",
              "      <td>0.331832</td>\n",
              "      <td>0.000000</td>\n",
              "      <td>0.000000</td>\n",
              "      <td>0.331832</td>\n",
              "      <td>0.000000</td>\n",
              "      <td>0.000000</td>\n",
              "      <td>0.000000</td>\n",
              "      <td>0.000000</td>\n",
              "      <td>0.000000</td>\n",
              "      <td>0.000000</td>\n",
              "      <td>0.000000</td>\n",
              "      <td>0.000000</td>\n",
              "      <td>0.00000</td>\n",
              "      <td>0.272107</td>\n",
              "      <td>0.000000</td>\n",
              "      <td>0.000000</td>\n",
              "      <td>0.000000</td>\n",
              "      <td>0.196862</td>\n",
              "      <td>0.000000</td>\n",
              "      <td>0.000000</td>\n",
              "      <td>0.00000</td>\n",
              "      <td>0.000000</td>\n",
              "      <td>0.000000</td>\n",
              "      <td>0.331832</td>\n",
              "      <td>0.000000</td>\n",
              "      <td>0.331832</td>\n",
              "      <td>0.000000</td>\n",
              "      <td>0.340012</td>\n",
              "      <td>0.000000</td>\n",
              "      <td>0.272107</td>\n",
              "      <td>0.229731</td>\n",
              "      <td>0.196862</td>\n",
              "      <td>0.272107</td>\n",
              "    </tr>\n",
              "    <tr>\n",
              "      <th>4</th>\n",
              "      <td>0.000000</td>\n",
              "      <td>0.000000</td>\n",
              "      <td>0.00000</td>\n",
              "      <td>0.000000</td>\n",
              "      <td>0.00000</td>\n",
              "      <td>0.449046</td>\n",
              "      <td>0.368224</td>\n",
              "      <td>0.00000</td>\n",
              "      <td>0.00000</td>\n",
              "      <td>0.449046</td>\n",
              "      <td>0.000000</td>\n",
              "      <td>0.000000</td>\n",
              "      <td>0.000000</td>\n",
              "      <td>0.000000</td>\n",
              "      <td>0.449046</td>\n",
              "      <td>0.000000</td>\n",
              "      <td>0.368224</td>\n",
              "      <td>0.000000</td>\n",
              "      <td>0.000000</td>\n",
              "      <td>0.000000</td>\n",
              "      <td>0.000000</td>\n",
              "      <td>0.000000</td>\n",
              "      <td>0.00000</td>\n",
              "      <td>0.000000</td>\n",
              "      <td>0.000000</td>\n",
              "      <td>0.000000</td>\n",
              "      <td>0.000000</td>\n",
              "      <td>0.000000</td>\n",
              "      <td>0.000000</td>\n",
              "      <td>0.000000</td>\n",
              "      <td>0.00000</td>\n",
              "      <td>0.000000</td>\n",
              "      <td>0.000000</td>\n",
              "      <td>0.000000</td>\n",
              "      <td>0.000000</td>\n",
              "      <td>0.000000</td>\n",
              "      <td>0.000000</td>\n",
              "      <td>0.230058</td>\n",
              "      <td>0.000000</td>\n",
              "      <td>0.000000</td>\n",
              "      <td>0.000000</td>\n",
              "      <td>0.266401</td>\n",
              "      <td>0.000000</td>\n",
              "    </tr>\n",
              "    <tr>\n",
              "      <th>5</th>\n",
              "      <td>0.000000</td>\n",
              "      <td>0.000000</td>\n",
              "      <td>0.00000</td>\n",
              "      <td>0.000000</td>\n",
              "      <td>0.00000</td>\n",
              "      <td>0.000000</td>\n",
              "      <td>0.314117</td>\n",
              "      <td>0.00000</td>\n",
              "      <td>0.00000</td>\n",
              "      <td>0.000000</td>\n",
              "      <td>0.000000</td>\n",
              "      <td>0.314117</td>\n",
              "      <td>0.000000</td>\n",
              "      <td>0.000000</td>\n",
              "      <td>0.000000</td>\n",
              "      <td>0.000000</td>\n",
              "      <td>0.314117</td>\n",
              "      <td>0.227255</td>\n",
              "      <td>0.000000</td>\n",
              "      <td>0.000000</td>\n",
              "      <td>0.383063</td>\n",
              "      <td>0.000000</td>\n",
              "      <td>0.00000</td>\n",
              "      <td>0.000000</td>\n",
              "      <td>0.000000</td>\n",
              "      <td>0.383063</td>\n",
              "      <td>0.000000</td>\n",
              "      <td>0.227255</td>\n",
              "      <td>0.383063</td>\n",
              "      <td>0.000000</td>\n",
              "      <td>0.00000</td>\n",
              "      <td>0.000000</td>\n",
              "      <td>0.000000</td>\n",
              "      <td>0.000000</td>\n",
              "      <td>0.000000</td>\n",
              "      <td>0.000000</td>\n",
              "      <td>0.000000</td>\n",
              "      <td>0.196253</td>\n",
              "      <td>0.000000</td>\n",
              "      <td>0.000000</td>\n",
              "      <td>0.265199</td>\n",
              "      <td>0.227255</td>\n",
              "      <td>0.000000</td>\n",
              "    </tr>\n",
              "  </tbody>\n",
              "</table>\n",
              "</div>"
            ],
            "text/plain": [
              "   agriculture       and   animal  ...        to     water      with\n",
              "0     0.190600  0.326660  0.27531  ...  0.190600  0.000000  0.000000\n",
              "1     0.251394  0.430851  0.00000  ...  0.000000  0.000000  0.297766\n",
              "2     0.000000  0.176151  0.00000  ...  0.000000  0.176151  0.000000\n",
              "3     0.229731  0.196862  0.00000  ...  0.229731  0.196862  0.272107\n",
              "4     0.000000  0.000000  0.00000  ...  0.000000  0.266401  0.000000\n",
              "5     0.000000  0.000000  0.00000  ...  0.265199  0.227255  0.000000\n",
              "\n",
              "[6 rows x 43 columns]"
            ]
          },
          "metadata": {},
          "execution_count": 56
        }
      ]
    },
    {
      "cell_type": "code",
      "metadata": {
        "id": "P2todyaeVEqv"
      },
      "source": [
        ""
      ],
      "execution_count": null,
      "outputs": []
    }
  ]
}