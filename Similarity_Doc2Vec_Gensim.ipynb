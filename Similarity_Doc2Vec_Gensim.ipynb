{
  "nbformat": 4,
  "nbformat_minor": 0,
  "metadata": {
    "colab": {
      "name": "Copy of Similarity Doc2Vec_Gensim.ipynb",
      "provenance": [],
      "toc_visible": true,
      "include_colab_link": true
    },
    "kernelspec": {
      "name": "python3",
      "display_name": "Python 3"
    }
  },
  "cells": [
    {
      "cell_type": "markdown",
      "metadata": {
        "id": "view-in-github",
        "colab_type": "text"
      },
      "source": [
        "<a href=\"https://colab.research.google.com/github/ijazulhaq1/ijazulhaq1/blob/main/Similarity_Doc2Vec_Gensim.ipynb\" target=\"_parent\"><img src=\"https://colab.research.google.com/assets/colab-badge.svg\" alt=\"Open In Colab\"/></a>"
      ]
    },
    {
      "cell_type": "markdown",
      "metadata": {
        "id": "YfcXYEjyitET"
      },
      "source": [
        "# Natural Language Processing (NLP) - How to find \"Similar Sentences\" from your dataset? \n",
        "\n",
        "In this article, we will be using \"gensim\" python package and Doc2Vec method for finding a similar sentence."
      ]
    },
    {
      "cell_type": "code",
      "metadata": {
        "id": "V3XLBHeFir5a",
        "colab": {
          "base_uri": "https://localhost:8080/"
        },
        "outputId": "a246c58d-bd21-4d35-a3fe-57f8edb88159"
      },
      "source": [
        "!pip install gensim\n",
        "!pip install nltk"
      ],
      "execution_count": null,
      "outputs": [
        {
          "output_type": "stream",
          "name": "stdout",
          "text": [
            "Requirement already satisfied: gensim in /usr/local/lib/python3.7/dist-packages (3.6.0)\n",
            "Requirement already satisfied: numpy>=1.11.3 in /usr/local/lib/python3.7/dist-packages (from gensim) (1.19.5)\n",
            "Requirement already satisfied: six>=1.5.0 in /usr/local/lib/python3.7/dist-packages (from gensim) (1.15.0)\n",
            "Requirement already satisfied: scipy>=0.18.1 in /usr/local/lib/python3.7/dist-packages (from gensim) (1.4.1)\n",
            "Requirement already satisfied: smart-open>=1.2.1 in /usr/local/lib/python3.7/dist-packages (from gensim) (5.2.1)\n",
            "Requirement already satisfied: nltk in /usr/local/lib/python3.7/dist-packages (3.2.5)\n",
            "Requirement already satisfied: six in /usr/local/lib/python3.7/dist-packages (from nltk) (1.15.0)\n"
          ]
        }
      ]
    },
    {
      "cell_type": "markdown",
      "metadata": {
        "id": "qtrs-2E5jQ3w"
      },
      "source": [
        "Consider training the model with your dataset."
      ]
    },
    {
      "cell_type": "code",
      "metadata": {
        "id": "KZ3ao32TjPut"
      },
      "source": [
        "data = [ \"The practice of agriculture and livestock around the city and increase concetration of niterates due to animal manure\",\n",
        "             \"Livestock and agriculture with intense production and  increase soil pollutions\",\n",
        "             \"There are not enough system for water purification and  this influences the increase of niterats\",\n",
        "             \"Agriculture with fertilizers continimates the subsoil of niterates and this reach to the water\",\n",
        "             \"axcess fertizer cause contimination in the water\",\n",
        "             \"due to increase in nitrogen is the cause of water pollution \"\n",
        "\n",
        "]"
      ],
      "execution_count": null,
      "outputs": []
    },
    {
      "cell_type": "markdown",
      "metadata": {
        "id": "8S6XfeE6jqzA"
      },
      "source": [
        "Train the model with your dataset and store the trainned model for later use."
      ]
    },
    {
      "cell_type": "code",
      "metadata": {
        "id": "OyprNeojjqP0",
        "colab": {
          "base_uri": "https://localhost:8080/"
        },
        "outputId": "caae5e02-ee0e-44a0-9e98-ae4a5b23c94b"
      },
      "source": [
        "from gensim.models.doc2vec import Doc2Vec, TaggedDocument\n",
        "from nltk.tokenize import word_tokenize\n",
        "import nltk\n",
        "nltk.download('punkt')\n",
        "\n",
        "tagged_data = [TaggedDocument(words=word_tokenize(_d.lower()), tags=[str(i)]) for i, _d in enumerate(data)]\n",
        "\n",
        "# hyper parameters\n",
        "max_epochs = 500\n",
        "vec_size =150\n",
        "alpha = 0.03\n",
        "minimum_alpha = 0.0025\n",
        "reduce_alpha = 0.0002\n",
        "\n",
        "model = Doc2Vec(vector_size=vec_size,\n",
        "                alpha=alpha, \n",
        "                min_alpha=minimum_alpha,\n",
        "                dm =1)\n",
        "model.build_vocab(tagged_data)\n",
        "\n",
        "# Train the model based on epochs parameter\n",
        "for epoch in range(max_epochs):\n",
        "    model.train(tagged_data,\n",
        "                total_examples=model.corpus_count,\n",
        "                epochs=model.iter)\n",
        "\n",
        "# Save model. \n",
        "model.save(\"similar_sentence.model\")\n",
        "print('Model saved to the system.')"
      ],
      "execution_count": null,
      "outputs": [
        {
          "output_type": "stream",
          "name": "stdout",
          "text": [
            "[nltk_data] Downloading package punkt to /root/nltk_data...\n",
            "[nltk_data]   Package punkt is already up-to-date!\n"
          ]
        },
        {
          "output_type": "stream",
          "name": "stderr",
          "text": [
            "/usr/local/lib/python3.7/dist-packages/ipykernel_launcher.py:25: DeprecationWarning: Call to deprecated `iter` (Attribute will be removed in 4.0.0, use self.epochs instead).\n"
          ]
        },
        {
          "output_type": "stream",
          "name": "stdout",
          "text": [
            "Model saved to the system.\n"
          ]
        }
      ]
    },
    {
      "cell_type": "markdown",
      "metadata": {
        "id": "9ilwgKUokbSE"
      },
      "source": [
        "Time to check the similar sentence..."
      ]
    },
    {
      "cell_type": "code",
      "metadata": {
        "id": "beP_QyyXkhsl",
        "colab": {
          "base_uri": "https://localhost:8080/"
        },
        "outputId": "0cb4ee9c-bd25-46eb-ce97-ca1d09009b3d"
      },
      "source": [
        "from gensim.models.doc2vec import Doc2Vec\n",
        "\n",
        "model= Doc2Vec.load(\"similar_sentence.model\")\n",
        "\n",
        "def output_sentences(most_similar):\n",
        "    print('\\n')\n",
        "    for label, index in [('MOST', 0), ('SECOND-MOST', 1), ('MEDIAN', len(most_similar)//2), ('LEAST', len(most_similar) - 1)]:\n",
        "      print(u'%s %s: %s\\n' % (label, most_similar[index][1], data[int(most_similar[index][0])]))\n",
        "    print('=====================\\n')\n",
        " \n",
        "seed_text = \"The large increase in the use of fertilizer for example niterates cause the water pollution\"\n",
        "tokens = seed_text.split()\n",
        "vector = model.infer_vector(tokens)\n",
        "most_similar = model.docvecs.most_similar([vector]) \n",
        "\n",
        "output_sentences(most_similar)"
      ],
      "execution_count": null,
      "outputs": [
        {
          "output_type": "stream",
          "name": "stdout",
          "text": [
            "\n",
            "\n",
            "MOST 0.9217566847801208: Agriculture with fertilizers continimates the subsoil of niterates and this reach to the water\n",
            "\n",
            "SECOND-MOST 0.895653486251831: axcess fertizer cause contimination in the water\n",
            "\n",
            "MEDIAN 0.7696705460548401: There are not enough system for water purification and  this influences the increase of niterats\n",
            "\n",
            "LEAST -0.06945681571960449: Livestock and agriculture with intense production and  increase soil pollutions\n",
            "\n",
            "=====================\n",
            "\n"
          ]
        }
      ]
    },
    {
      "cell_type": "code",
      "metadata": {
        "id": "l6uOGwTCtc2p"
      },
      "source": [
        ""
      ],
      "execution_count": null,
      "outputs": []
    },
    {
      "cell_type": "code",
      "metadata": {
        "id": "lYCvHItqsjIS"
      },
      "source": [
        ""
      ],
      "execution_count": null,
      "outputs": []
    }
  ]
}